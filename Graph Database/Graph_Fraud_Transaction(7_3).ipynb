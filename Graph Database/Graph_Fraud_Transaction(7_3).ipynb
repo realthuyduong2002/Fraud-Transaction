{
  "cells": [
    {
      "cell_type": "code",
      "execution_count": null,
      "id": "2639172b",
      "metadata": {
        "id": "2639172b"
      },
      "outputs": [],
      "source": [
        "import neo4jupyter  #Before import neo4jupyter, need to !pip install neo4jupyter\n",
        "from py2neo import Graph\n",
        "import pandas as pd"
      ]
    },
    {
      "cell_type": "code",
      "execution_count": null,
      "id": "9690d45f",
      "metadata": {
        "id": "9690d45f"
      },
      "outputs": [],
      "source": [
        "# Connect to Neo4j\n",
        "graph = Graph(\"bolt://localhost:7687\", auth=(\"neo4j\", \"12345678\"))"
      ]
    },
    {
      "cell_type": "code",
      "execution_count": null,
      "id": "625fcb6b",
      "metadata": {
        "id": "625fcb6b",
        "outputId": "d365d89e-f46d-4696-f21f-58451917d043"
      },
      "outputs": [
        {
          "data": {
            "text/html": [
              "<div>\n",
              "<style scoped>\n",
              "    .dataframe tbody tr th:only-of-type {\n",
              "        vertical-align: middle;\n",
              "    }\n",
              "\n",
              "    .dataframe tbody tr th {\n",
              "        vertical-align: top;\n",
              "    }\n",
              "\n",
              "    .dataframe thead th {\n",
              "        text-align: right;\n",
              "    }\n",
              "</style>\n",
              "<table border=\"1\" class=\"dataframe\">\n",
              "  <thead>\n",
              "    <tr style=\"text-align: right;\">\n",
              "      <th></th>\n",
              "      <th>index</th>\n",
              "      <th>cc_num</th>\n",
              "      <th>amt</th>\n",
              "      <th>first</th>\n",
              "      <th>last</th>\n",
              "      <th>gender</th>\n",
              "      <th>street</th>\n",
              "      <th>city</th>\n",
              "      <th>state</th>\n",
              "      <th>zip</th>\n",
              "      <th>lat</th>\n",
              "      <th>long</th>\n",
              "      <th>city_pop</th>\n",
              "      <th>job</th>\n",
              "      <th>dob</th>\n",
              "      <th>trans_num</th>\n",
              "      <th>unix_time</th>\n",
              "    </tr>\n",
              "  </thead>\n",
              "  <tbody>\n",
              "    <tr>\n",
              "      <th>0</th>\n",
              "      <td>1</td>\n",
              "      <td>6.760000e+11</td>\n",
              "      <td>92.04</td>\n",
              "      <td>Lisa</td>\n",
              "      <td>Fitzpatrick</td>\n",
              "      <td>F</td>\n",
              "      <td>58761 Brewer Rapids</td>\n",
              "      <td>Skytop</td>\n",
              "      <td>PA</td>\n",
              "      <td>18357</td>\n",
              "      <td>41.2336</td>\n",
              "      <td>-75.2389</td>\n",
              "      <td>104</td>\n",
              "      <td>Financial trader</td>\n",
              "      <td>8/25/1927</td>\n",
              "      <td>7734521672b0d4226e8beb2f32a18be6</td>\n",
              "      <td>1385856055</td>\n",
              "    </tr>\n",
              "    <tr>\n",
              "      <th>1</th>\n",
              "      <td>2</td>\n",
              "      <td>3.590000e+15</td>\n",
              "      <td>55.37</td>\n",
              "      <td>Dylan</td>\n",
              "      <td>Garcia</td>\n",
              "      <td>M</td>\n",
              "      <td>923 Jordan Road</td>\n",
              "      <td>Afton</td>\n",
              "      <td>MN</td>\n",
              "      <td>55001</td>\n",
              "      <td>44.8696</td>\n",
              "      <td>-92.8234</td>\n",
              "      <td>2916</td>\n",
              "      <td>Barrister's clerk</td>\n",
              "      <td>6/29/1935</td>\n",
              "      <td>802e9541f9b488a428ec596d62917edc</td>\n",
              "      <td>1385856072</td>\n",
              "    </tr>\n",
              "    <tr>\n",
              "      <th>2</th>\n",
              "      <td>3</td>\n",
              "      <td>4.150000e+15</td>\n",
              "      <td>111.36</td>\n",
              "      <td>Tanner</td>\n",
              "      <td>Carroll</td>\n",
              "      <td>M</td>\n",
              "      <td>494 Burke Ports</td>\n",
              "      <td>Cokeburg</td>\n",
              "      <td>PA</td>\n",
              "      <td>15324</td>\n",
              "      <td>40.1008</td>\n",
              "      <td>-80.0652</td>\n",
              "      <td>632</td>\n",
              "      <td>Dealer</td>\n",
              "      <td>4/8/1989</td>\n",
              "      <td>8def08fd0956c7c6e195ecec91ff5dbe</td>\n",
              "      <td>1385856127</td>\n",
              "    </tr>\n",
              "    <tr>\n",
              "      <th>3</th>\n",
              "      <td>4</td>\n",
              "      <td>2.130000e+14</td>\n",
              "      <td>108.09</td>\n",
              "      <td>James</td>\n",
              "      <td>Hunt</td>\n",
              "      <td>M</td>\n",
              "      <td>7369 Gabriel Tunnel</td>\n",
              "      <td>Pointe Aux Pins</td>\n",
              "      <td>MI</td>\n",
              "      <td>49775</td>\n",
              "      <td>45.7549</td>\n",
              "      <td>-84.4470</td>\n",
              "      <td>95</td>\n",
              "      <td>Electrical engineer</td>\n",
              "      <td>2/9/1994</td>\n",
              "      <td>4c24b8c2865a0e0fd426c4eb20617a03</td>\n",
              "      <td>1385856130</td>\n",
              "    </tr>\n",
              "    <tr>\n",
              "      <th>4</th>\n",
              "      <td>5</td>\n",
              "      <td>5.720000e+11</td>\n",
              "      <td>11.58</td>\n",
              "      <td>Susan</td>\n",
              "      <td>Mills</td>\n",
              "      <td>F</td>\n",
              "      <td>005 Cody Estates</td>\n",
              "      <td>Louisville</td>\n",
              "      <td>KY</td>\n",
              "      <td>40202</td>\n",
              "      <td>38.2507</td>\n",
              "      <td>-85.7476</td>\n",
              "      <td>736284</td>\n",
              "      <td>Engineering geologist</td>\n",
              "      <td>4/2/1952</td>\n",
              "      <td>a9f5ad66e14aa6c96465cc7c5777c0f7</td>\n",
              "      <td>1385856143</td>\n",
              "    </tr>\n",
              "  </tbody>\n",
              "</table>\n",
              "</div>"
            ],
            "text/plain": [
              "   index        cc_num     amt   first         last gender  \\\n",
              "0      1  6.760000e+11   92.04    Lisa  Fitzpatrick      F   \n",
              "1      2  3.590000e+15   55.37   Dylan       Garcia      M   \n",
              "2      3  4.150000e+15  111.36  Tanner      Carroll      M   \n",
              "3      4  2.130000e+14  108.09   James         Hunt      M   \n",
              "4      5  5.720000e+11   11.58   Susan        Mills      F   \n",
              "\n",
              "                street             city state    zip      lat     long  \\\n",
              "0  58761 Brewer Rapids           Skytop    PA  18357  41.2336 -75.2389   \n",
              "1      923 Jordan Road            Afton    MN  55001  44.8696 -92.8234   \n",
              "2      494 Burke Ports         Cokeburg    PA  15324  40.1008 -80.0652   \n",
              "3  7369 Gabriel Tunnel  Pointe Aux Pins    MI  49775  45.7549 -84.4470   \n",
              "4     005 Cody Estates       Louisville    KY  40202  38.2507 -85.7476   \n",
              "\n",
              "   city_pop                    job        dob  \\\n",
              "0       104       Financial trader  8/25/1927   \n",
              "1      2916      Barrister's clerk  6/29/1935   \n",
              "2       632                 Dealer   4/8/1989   \n",
              "3        95    Electrical engineer   2/9/1994   \n",
              "4    736284  Engineering geologist   4/2/1952   \n",
              "\n",
              "                          trans_num   unix_time  \n",
              "0  7734521672b0d4226e8beb2f32a18be6  1385856055  \n",
              "1  802e9541f9b488a428ec596d62917edc  1385856072  \n",
              "2  8def08fd0956c7c6e195ecec91ff5dbe  1385856127  \n",
              "3  4c24b8c2865a0e0fd426c4eb20617a03  1385856130  \n",
              "4  a9f5ad66e14aa6c96465cc7c5777c0f7  1385856143  "
            ]
          },
          "execution_count": 3,
          "metadata": {},
          "output_type": "execute_result"
        }
      ],
      "source": [
        "# Read file Customer\n",
        "customer = pd.read_csv(\"D:/CSDL/customer.csv\")\n",
        "customer.head(5)"
      ]
    },
    {
      "cell_type": "code",
      "execution_count": null,
      "id": "3c91be25",
      "metadata": {
        "id": "3c91be25",
        "outputId": "bfdb3b21-753e-422c-86af-176379188040"
      },
      "outputs": [
        {
          "data": {
            "text/html": [
              "<div>\n",
              "<style scoped>\n",
              "    .dataframe tbody tr th:only-of-type {\n",
              "        vertical-align: middle;\n",
              "    }\n",
              "\n",
              "    .dataframe tbody tr th {\n",
              "        vertical-align: top;\n",
              "    }\n",
              "\n",
              "    .dataframe thead th {\n",
              "        text-align: right;\n",
              "    }\n",
              "</style>\n",
              "<table border=\"1\" class=\"dataframe\">\n",
              "  <thead>\n",
              "    <tr style=\"text-align: right;\">\n",
              "      <th></th>\n",
              "      <th>trans_date_trans_time</th>\n",
              "      <th>cc_num</th>\n",
              "      <th>merchant</th>\n",
              "      <th>category</th>\n",
              "      <th>amt</th>\n",
              "      <th>trans_num</th>\n",
              "      <th>unix_time</th>\n",
              "      <th>is_fraud</th>\n",
              "    </tr>\n",
              "  </thead>\n",
              "  <tbody>\n",
              "    <tr>\n",
              "      <th>0</th>\n",
              "      <td>12/1/2020</td>\n",
              "      <td>6.762920e+11</td>\n",
              "      <td>fraud_Stracke-Lemke</td>\n",
              "      <td>grocery_pos</td>\n",
              "      <td>92.04</td>\n",
              "      <td>7734521672b0d4226e8beb2f32a18be6</td>\n",
              "      <td>1385856055</td>\n",
              "      <td>0</td>\n",
              "    </tr>\n",
              "    <tr>\n",
              "      <th>1</th>\n",
              "      <td>12/1/2020</td>\n",
              "      <td>3.592930e+15</td>\n",
              "      <td>fraud_Marks Inc</td>\n",
              "      <td>gas_transport</td>\n",
              "      <td>55.37</td>\n",
              "      <td>802e9541f9b488a428ec596d62917edc</td>\n",
              "      <td>1385856072</td>\n",
              "      <td>0</td>\n",
              "    </tr>\n",
              "    <tr>\n",
              "      <th>2</th>\n",
              "      <td>12/1/2020</td>\n",
              "      <td>4.149240e+15</td>\n",
              "      <td>fraud_Moen, Reinger and Murphy</td>\n",
              "      <td>grocery_pos</td>\n",
              "      <td>111.36</td>\n",
              "      <td>8def08fd0956c7c6e195ecec91ff5dbe</td>\n",
              "      <td>1385856127</td>\n",
              "      <td>0</td>\n",
              "    </tr>\n",
              "    <tr>\n",
              "      <th>3</th>\n",
              "      <td>12/1/2020</td>\n",
              "      <td>2.131940e+14</td>\n",
              "      <td>fraud_Bogisich Inc</td>\n",
              "      <td>grocery_pos</td>\n",
              "      <td>108.09</td>\n",
              "      <td>4c24b8c2865a0e0fd426c4eb20617a03</td>\n",
              "      <td>1385856130</td>\n",
              "      <td>0</td>\n",
              "    </tr>\n",
              "    <tr>\n",
              "      <th>4</th>\n",
              "      <td>12/1/2020</td>\n",
              "      <td>5.718440e+11</td>\n",
              "      <td>fraud_Lebsack and Sons</td>\n",
              "      <td>misc_net</td>\n",
              "      <td>11.58</td>\n",
              "      <td>a9f5ad66e14aa6c96465cc7c5777c0f7</td>\n",
              "      <td>1385856143</td>\n",
              "      <td>0</td>\n",
              "    </tr>\n",
              "  </tbody>\n",
              "</table>\n",
              "</div>"
            ],
            "text/plain": [
              "  trans_date_trans_time        cc_num                        merchant  \\\n",
              "0             12/1/2020  6.762920e+11             fraud_Stracke-Lemke   \n",
              "1             12/1/2020  3.592930e+15                 fraud_Marks Inc   \n",
              "2             12/1/2020  4.149240e+15  fraud_Moen, Reinger and Murphy   \n",
              "3             12/1/2020  2.131940e+14              fraud_Bogisich Inc   \n",
              "4             12/1/2020  5.718440e+11          fraud_Lebsack and Sons   \n",
              "\n",
              "        category     amt                         trans_num   unix_time  \\\n",
              "0    grocery_pos   92.04  7734521672b0d4226e8beb2f32a18be6  1385856055   \n",
              "1  gas_transport   55.37  802e9541f9b488a428ec596d62917edc  1385856072   \n",
              "2    grocery_pos  111.36  8def08fd0956c7c6e195ecec91ff5dbe  1385856127   \n",
              "3    grocery_pos  108.09  4c24b8c2865a0e0fd426c4eb20617a03  1385856130   \n",
              "4       misc_net   11.58  a9f5ad66e14aa6c96465cc7c5777c0f7  1385856143   \n",
              "\n",
              "   is_fraud  \n",
              "0         0  \n",
              "1         0  \n",
              "2         0  \n",
              "3         0  \n",
              "4         0  "
            ]
          },
          "execution_count": 4,
          "metadata": {},
          "output_type": "execute_result"
        }
      ],
      "source": [
        "# Read file Transaction\n",
        "transaction = pd.read_csv(\"D:/CSDL/transaction.csv\")\n",
        "transaction.head(5)"
      ]
    },
    {
      "cell_type": "code",
      "execution_count": null,
      "id": "04343980",
      "metadata": {
        "id": "04343980",
        "outputId": "4be07fea-e784-4e02-c271-23aa064d3607"
      },
      "outputs": [
        {
          "data": {
            "text/html": [
              "<div>\n",
              "<style scoped>\n",
              "    .dataframe tbody tr th:only-of-type {\n",
              "        vertical-align: middle;\n",
              "    }\n",
              "\n",
              "    .dataframe tbody tr th {\n",
              "        vertical-align: top;\n",
              "    }\n",
              "\n",
              "    .dataframe thead th {\n",
              "        text-align: right;\n",
              "    }\n",
              "</style>\n",
              "<table border=\"1\" class=\"dataframe\">\n",
              "  <thead>\n",
              "    <tr style=\"text-align: right;\">\n",
              "      <th></th>\n",
              "      <th>category</th>\n",
              "      <th>merchant</th>\n",
              "      <th>merch_lat</th>\n",
              "      <th>merch_long</th>\n",
              "      <th>trans_num</th>\n",
              "    </tr>\n",
              "  </thead>\n",
              "  <tbody>\n",
              "    <tr>\n",
              "      <th>0</th>\n",
              "      <td>grocery_pos</td>\n",
              "      <td>fraud_Stracke-Lemke</td>\n",
              "      <td>42.14648</td>\n",
              "      <td>-74.32872</td>\n",
              "      <td>7734521672b0d4226e8beb2f32a18be6</td>\n",
              "    </tr>\n",
              "    <tr>\n",
              "      <th>1</th>\n",
              "      <td>gas_transport</td>\n",
              "      <td>fraud_Marks Inc</td>\n",
              "      <td>45.09455</td>\n",
              "      <td>-93.73171</td>\n",
              "      <td>802e9541f9b488a428ec596d62917edc</td>\n",
              "    </tr>\n",
              "    <tr>\n",
              "      <th>2</th>\n",
              "      <td>grocery_pos</td>\n",
              "      <td>fraud_Moen, Reinger and Murphy</td>\n",
              "      <td>41.02571</td>\n",
              "      <td>-80.37698</td>\n",
              "      <td>8def08fd0956c7c6e195ecec91ff5dbe</td>\n",
              "    </tr>\n",
              "    <tr>\n",
              "      <th>3</th>\n",
              "      <td>grocery_pos</td>\n",
              "      <td>fraud_Bogisich Inc</td>\n",
              "      <td>45.58304</td>\n",
              "      <td>-83.75529</td>\n",
              "      <td>4c24b8c2865a0e0fd426c4eb20617a03</td>\n",
              "    </tr>\n",
              "    <tr>\n",
              "      <th>4</th>\n",
              "      <td>misc_net</td>\n",
              "      <td>fraud_Lebsack and Sons</td>\n",
              "      <td>37.39584</td>\n",
              "      <td>-85.36133</td>\n",
              "      <td>a9f5ad66e14aa6c96465cc7c5777c0f7</td>\n",
              "    </tr>\n",
              "  </tbody>\n",
              "</table>\n",
              "</div>"
            ],
            "text/plain": [
              "        category                        merchant  merch_lat  merch_long  \\\n",
              "0    grocery_pos             fraud_Stracke-Lemke   42.14648   -74.32872   \n",
              "1  gas_transport                 fraud_Marks Inc   45.09455   -93.73171   \n",
              "2    grocery_pos  fraud_Moen, Reinger and Murphy   41.02571   -80.37698   \n",
              "3    grocery_pos              fraud_Bogisich Inc   45.58304   -83.75529   \n",
              "4       misc_net          fraud_Lebsack and Sons   37.39584   -85.36133   \n",
              "\n",
              "                          trans_num  \n",
              "0  7734521672b0d4226e8beb2f32a18be6  \n",
              "1  802e9541f9b488a428ec596d62917edc  \n",
              "2  8def08fd0956c7c6e195ecec91ff5dbe  \n",
              "3  4c24b8c2865a0e0fd426c4eb20617a03  \n",
              "4  a9f5ad66e14aa6c96465cc7c5777c0f7  "
            ]
          },
          "execution_count": 5,
          "metadata": {},
          "output_type": "execute_result"
        }
      ],
      "source": [
        "# Read file Merch\n",
        "merch = pd.read_csv(\"D:/CSDL/merch.csv\")\n",
        "merch.head(5)"
      ]
    },
    {
      "cell_type": "code",
      "execution_count": null,
      "id": "2d8c5ec3",
      "metadata": {
        "id": "2d8c5ec3"
      },
      "outputs": [],
      "source": [
        "from sklearn.model_selection import train_test_split\n",
        "# Divided train-test 7-3\n",
        "train_customer, test_customer = train_test_split(customer, test_size = 0.3, random_state = 42)\n",
        "train_transaction, test_transaction = train_test_split(transaction, test_size = 0.3, random_state = 42)\n",
        "train_merch, test_merch = train_test_split(merch, test_size = 0.3, random_state = 42)"
      ]
    },
    {
      "cell_type": "code",
      "execution_count": null,
      "id": "023171ec",
      "metadata": {
        "id": "023171ec"
      },
      "outputs": [],
      "source": [
        "# Create node for Customer-train\n",
        "for _, row in train_customer.iterrows():\n",
        "    # Retrieve information from the row\n",
        "    index = row['index']\n",
        "    cc_num = row['cc_num']\n",
        "    amt = row['amt']\n",
        "    first = row['first']\n",
        "    last = row['last']\n",
        "    gender = row['gender']\n",
        "    street = row['street']\n",
        "    city = row['city']\n",
        "    state = row['state']\n",
        "    zip_code = row['zip']\n",
        "    lat = row['lat']\n",
        "    lon = row['long']\n",
        "    city_pop = row['city_pop']\n",
        "    job = row['job']\n",
        "    dob = row['dob']\n",
        "    trans_num = row['trans_num']\n",
        "    unix_time = row['unix_time']\n",
        "\n",
        "    # Create a Customer node with attributes and set the train=True\n",
        "    query_create_customer = '''\n",
        "    CREATE (c:Customer {index: $index, cc_num: $cc_num, amt: $amt, first: $first, last: $last, gender: $gender,\n",
        "                        street: $street, city: $city, state: $state, zip: $zip_code, lat: $lat, lon: $lon,\n",
        "                        city_pop: $city_pop, job: $job, dob: $dob, trans_num: $trans_num, unix_time: $unix_time,\n",
        "                        train: True})\n",
        "    '''\n",
        "    graph.run(query_create_customer, index=index, cc_num=cc_num, amt=amt, first=first, last=last, gender=gender,\n",
        "              street=street, city=city, state=state, zip_code=zip_code, lat=lat, lon=lon, city_pop=city_pop,\n",
        "              job=job, dob=dob, trans_num=trans_num, unix_time=unix_time)"
      ]
    },
    {
      "cell_type": "code",
      "execution_count": null,
      "id": "4f1c6979",
      "metadata": {
        "id": "4f1c6979"
      },
      "outputs": [],
      "source": [
        "# Create node for Customer-test\n",
        "for _, row in test_customer.iterrows():\n",
        "    # Lấy thông tin từ hàng\n",
        "    index = row['index']\n",
        "    cc_num = row['cc_num']\n",
        "    amt = row['amt']\n",
        "    first = row['first']\n",
        "    last = row['last']\n",
        "    gender = row['gender']\n",
        "    street = row['street']\n",
        "    city = row['city']\n",
        "    state = row['state']\n",
        "    zip_code = row['zip']\n",
        "    lat = row['lat']\n",
        "    lon = row['long']\n",
        "    city_pop = row['city_pop']\n",
        "    job = row['job']\n",
        "    dob = row['dob']\n",
        "    trans_num = row['trans_num']\n",
        "    unix_time = row['unix_time']\n",
        "\n",
        "    # Create a Customer node with attributes and set the train=False\n",
        "    query_create_customer = '''\n",
        "    CREATE (c:Customer {index: $index, cc_num: $cc_num, amt: $amt, first: $first, last: $last, gender: $gender,\n",
        "                        street: $street, city: $city, state: $state, zip: $zip_code, lat: $lat, lon: $lon,\n",
        "                        city_pop: $city_pop, job: $job, dob: $dob, trans_num: $trans_num, unix_time: $unix_time,\n",
        "                        train: False})\n",
        "    '''\n",
        "    graph.run(query_create_customer, index=index, cc_num=cc_num, amt=amt, first=first, last=last, gender=gender,\n",
        "              street=street, city=city, state=state, zip_code=zip_code, lat=lat, lon=lon, city_pop=city_pop,\n",
        "              job=job, dob=dob, trans_num=trans_num, unix_time=unix_time)"
      ]
    },
    {
      "cell_type": "code",
      "execution_count": null,
      "id": "d83d3b20",
      "metadata": {
        "id": "d83d3b20"
      },
      "outputs": [],
      "source": [
        "# Create node for Transaction-train\n",
        "for _, row in train_transaction.iterrows():\n",
        "    trans_date_trans_time = row['trans_date_trans_time']\n",
        "    cc_num = row['cc_num']\n",
        "    merchant = row['merchant']\n",
        "    category = row['category']\n",
        "    amt = row['amt']\n",
        "    trans_num = row['trans_num']\n",
        "    unix_time = row['unix_time']\n",
        "    is_fraud = row['is_fraud']\n",
        "\n",
        "    # Create a Transaction node with attributes and set the train=True\n",
        "    query_create_transaction = '''\n",
        "    CREATE (t:Transaction {trans_date_trans_time: $trans_date_trans_time, cc_num: $cc_num, merchant: $merchant,\n",
        "                           category: $category, amt: $amt, trans_num: $trans_num, unix_time: $unix_time,\n",
        "                           is_fraud: $is_fraud, train: True})\n",
        "    '''\n",
        "    graph.run(query_create_transaction, trans_date_trans_time=trans_date_trans_time, cc_num=cc_num, merchant=merchant,\n",
        "              category=category, amt=amt, trans_num=trans_num, unix_time=unix_time, is_fraud=is_fraud)\n"
      ]
    },
    {
      "cell_type": "code",
      "execution_count": null,
      "id": "fabf1411",
      "metadata": {
        "id": "fabf1411"
      },
      "outputs": [],
      "source": [
        "# Create node for Transaction-test\n",
        "for _, row in test_transaction.iterrows():\n",
        "    trans_date_trans_time = row['trans_date_trans_time']\n",
        "    cc_num = row['cc_num']\n",
        "    merchant = row['merchant']\n",
        "    category = row['category']\n",
        "    amt = row['amt']\n",
        "    trans_num = row['trans_num']\n",
        "    unix_time = row['unix_time']\n",
        "    is_fraud = row['is_fraud']\n",
        "\n",
        "    # Create a Transaction node with attributes and set the train=False\n",
        "    query_create_transaction = '''\n",
        "    CREATE (t:Transaction {trans_date_trans_time: $trans_date_trans_time, cc_num: $cc_num, merchant: $merchant,\n",
        "                           category: $category, amt: $amt, trans_num: $trans_num, unix_time: $unix_time,\n",
        "                           is_fraud: $is_fraud, train: False})\n",
        "    '''\n",
        "    graph.run(query_create_transaction, trans_date_trans_time=trans_date_trans_time, cc_num=cc_num, merchant=merchant,\n",
        "              category=category, amt=amt, trans_num=trans_num, unix_time=unix_time, is_fraud=is_fraud)"
      ]
    },
    {
      "cell_type": "code",
      "execution_count": null,
      "id": "35cc9bb7",
      "metadata": {
        "id": "35cc9bb7"
      },
      "outputs": [],
      "source": [
        "# Create node for Merch-train\n",
        "for _, row in train_merch.iterrows():\n",
        "    category = row['category']\n",
        "    merchant = row['merchant']\n",
        "    merch_lat = row['merch_lat']\n",
        "    merch_long = row['merch_long']\n",
        "    trans_num = row['trans_num']\n",
        "\n",
        "    # Create a Merch node with attributes and set the train=True\n",
        "    query_create_merch = '''\n",
        "    CREATE (m:Merch {category: $category, merchant: $merchant,\n",
        "                           merch_lat: $merch_lat, merch_long: $merch_long,\n",
        "                           trans_num: $trans_num, train: True})\n",
        "    '''\n",
        "    graph.run(query_create_merch, category=category, merchant=merchant,\n",
        "              merch_lat=merch_lat, merch_long=merch_long, trans_num=trans_num)"
      ]
    },
    {
      "cell_type": "code",
      "execution_count": null,
      "id": "b597d2cb",
      "metadata": {
        "id": "b597d2cb"
      },
      "outputs": [],
      "source": [
        "# Create node for Merch-test\n",
        "for _, row in test_merch.iterrows():\n",
        "    category = row['category']\n",
        "    merchant = row['merchant']\n",
        "    merch_lat = row['merch_lat']\n",
        "    merch_long = row['merch_long']\n",
        "    trans_num = row['trans_num']\n",
        "\n",
        "    # Create a Merch node with attributes and set the train=False\n",
        "    query_create_merch = '''\n",
        "    CREATE (m:Merch {category: $category, merchant: $merchant,\n",
        "                           merch_lat: $merch_lat, merch_long: $merch_long,\n",
        "                           trans_num: $trans_num, train: False})\n",
        "    '''\n",
        "    graph.run(query_create_merch, category=category, merchant=merchant,\n",
        "              merch_lat=merch_lat, merch_long=merch_long, trans_num=trans_num)"
      ]
    },
    {
      "cell_type": "code",
      "execution_count": null,
      "id": "12a5cd8b",
      "metadata": {
        "id": "12a5cd8b",
        "outputId": "4c2aeff3-ff94-4f08-a490-8552c6bb8fed"
      },
      "outputs": [
        {
          "data": {
            "text/html": [
              "(No data)"
            ],
            "text/plain": [
              "(No data)"
            ]
          },
          "execution_count": 12,
          "metadata": {},
          "output_type": "execute_result"
        }
      ],
      "source": [
        "# Create relationship name MADE_TRANSACTION between Customer and Transaction\n",
        "query_linkcus_trans = '''\n",
        "MATCH (c:Customer), (t:Transaction)\n",
        "WHERE c.trans_num = t.trans_num\n",
        "CREATE (c)-[:MADE_TRANSACTION]->(t)\n",
        "'''\n",
        "graph.run(query_linkcus_trans)"
      ]
    },
    {
      "cell_type": "code",
      "execution_count": null,
      "id": "42c02a49",
      "metadata": {
        "id": "42c02a49",
        "outputId": "152b7214-8e88-4c7c-8e1d-c5ea0fc8406e"
      },
      "outputs": [
        {
          "data": {
            "text/html": [
              "(No data)"
            ],
            "text/plain": [
              "(No data)"
            ]
          },
          "execution_count": 13,
          "metadata": {},
          "output_type": "execute_result"
        }
      ],
      "source": [
        "# Create relationship name RELATED_TO between Transaction and Merch\n",
        "query_linktrans_merch = '''\n",
        "MATCH (t:Transaction), (m:Merch)\n",
        "WHERE t.trans_num = m.trans_num\n",
        "CREATE (t)-[:RELATED_TO]->(m)\n",
        "'''\n",
        "graph.run(query_linktrans_merch)"
      ]
    },
    {
      "cell_type": "code",
      "execution_count": null,
      "id": "e8462ea4",
      "metadata": {
        "id": "e8462ea4"
      },
      "outputs": [],
      "source": [
        "# Check the relationship between Customer, Transaction, and Merch in the Neo4j (train dataset):\n",
        "        # MATCH (c:Customer)-[:MADE_TRANSACTION]->(t:Transaction)-[:RELATED_TO]->(m:Merch)\n",
        "        # WHERE c.train = true AND t.train = true and m.train = true\n",
        "        # RETURN c, t, m\n",
        "        # LIMIT 5"
      ]
    },
    {
      "cell_type": "code",
      "execution_count": null,
      "id": "836880c1",
      "metadata": {
        "id": "836880c1"
      },
      "outputs": [],
      "source": [
        "# Check the relationship between Customer, Transaction, and Merch in the Neo4j (test dataset):\n",
        "        # MATCH (c:Customer)-[:MADE_TRANSACTION]->(t:Transaction)-[:RELATED_TO]->(m:Merch)\n",
        "        # WHERE c.train = false AND t.train = false and m.train = false\n",
        "        # RETURN c, t, m\n",
        "        # LIMIT 5"
      ]
    },
    {
      "cell_type": "code",
      "execution_count": null,
      "id": "c3899d5a",
      "metadata": {
        "id": "c3899d5a",
        "outputId": "b310bb17-b422-443b-f54f-42c5f77e73c2"
      },
      "outputs": [
        {
          "name": "stdout",
          "output_type": "stream",
          "text": [
            "Train Data:\n",
            "        amount                               merchant transaction_time  \\\n",
            "86020    25.86                      fraud_Friesen Inc        12/5/2020   \n",
            "29726    98.14                fraud_Hackett-Lueilwitz       12/11/2020   \n",
            "9599     74.85                 fraud_Skiles-Ankunding        12/7/2020   \n",
            "18497    73.10                         fraud_Wolf Inc       12/29/2020   \n",
            "8842     26.96                       fraud_Kuhn Group       12/14/2020   \n",
            "...        ...                                    ...              ...   \n",
            "110268  208.55                         fraud_Auer LLC        12/1/2020   \n",
            "119879  105.55   fraud_Swaniawski, Nitzsche and Welch       12/22/2020   \n",
            "103694    1.69                       fraud_Schumm PLC       12/20/2020   \n",
            "131932  122.93  fraud_Wuckert, Wintheiser and Friesen       12/27/2020   \n",
            "121958   13.51     fraud_Gutmann, McLaughlin and Wiza        12/8/2020   \n",
            "\n",
            "        is_fraud        category        cc_num  \n",
            "86020          0    shopping_pos  3.533180e+15  \n",
            "29726          0     grocery_pos  4.158010e+12  \n",
            "9599           0     grocery_net  3.568260e+15  \n",
            "18497          0     grocery_pos  3.023500e+13  \n",
            "8842           0     food_dining  4.502540e+18  \n",
            "...          ...             ...           ...  \n",
            "110268         0   personal_care  6.538440e+15  \n",
            "119879         0  health_fitness  3.573030e+15  \n",
            "103694         0    shopping_net  2.131910e+14  \n",
            "131932         0            home  3.710090e+14  \n",
            "121958         0            home  4.155020e+15  \n",
            "\n",
            "[97676 rows x 6 columns]\n"
          ]
        }
      ],
      "source": [
        "# Create DataFrame include columns: amt, merchant, trans_date_trans_time, is_fraud, category\n",
        "query = \"\"\"\n",
        "MATCH (c:Customer)-[:MADE_TRANSACTION]->(t:Transaction)\n",
        "RETURN  t.amt AS amount, t.merchant AS merchant, t.trans_date_trans_time AS transaction_time,\n",
        "        t.is_fraud AS is_fraud, t.category AS category, t.cc_num AS cc_num\n",
        "\"\"\"\n",
        "result = graph.run(query)\n",
        "data = {\"amount\": [], \"merchant\": [], \"transaction_time\": [], \"is_fraud\": [], \"category\": [], \"cc_num\": []}\n",
        "\n",
        "# Iterate through the query results and save the data into their respective parts\n",
        "for record in result:\n",
        "    data[\"amount\"].append(record[\"amount\"])\n",
        "    data[\"merchant\"].append(record[\"merchant\"])\n",
        "    data[\"transaction_time\"].append(record[\"transaction_time\"])\n",
        "    data[\"is_fraud\"].append(record[\"is_fraud\"])\n",
        "    data[\"category\"].append(record[\"category\"])\n",
        "    data[\"cc_num\"].append(record[\"cc_num\"])\n",
        "\n",
        "df = pd.DataFrame(data)\n",
        "\n",
        "# Utilize the pre-split training and testing sets\n",
        "df_train = df.loc[train_transaction.index]\n",
        "df_test = df.loc[test_transaction.index]\n",
        "\n",
        "print(\"Train Data:\")\n",
        "print(df_train)"
      ]
    },
    {
      "cell_type": "code",
      "execution_count": null,
      "id": "1121096a",
      "metadata": {
        "id": "1121096a",
        "outputId": "852faba6-a6a9-4185-b7f8-6c4a0ea60c7d"
      },
      "outputs": [
        {
          "name": "stdout",
          "output_type": "stream",
          "text": [
            "Test Data:\n",
            "        amount                             merchant transaction_time  \\\n",
            "137472   25.34                     fraud_Little Ltd       12/29/2020   \n",
            "93149   803.04               fraud_Hermann and Sons        12/8/2020   \n",
            "14680     8.07               fraud_Jakubowski Group       12/20/2020   \n",
            "26127     3.29   fraud_Crist, Jakubowski and Littel       12/24/2020   \n",
            "113736    7.40                fraud_Halvorson Group        12/1/2020   \n",
            "...        ...                                  ...              ...   \n",
            "134655  141.95  fraud_Yost, Schamberger and Windler        12/1/2020   \n",
            "81127   166.11               fraud_Kemmer-Buckridge       12/29/2020   \n",
            "127601   73.04                   fraud_Kassulke Inc       12/29/2020   \n",
            "39417    81.56                     fraud_Harris Inc        12/8/2020   \n",
            "123650   15.05               fraud_Dibbert and Sons       12/10/2020   \n",
            "\n",
            "        is_fraud       category        cc_num  \n",
            "137472         0      kids_pets  4.426080e+18  \n",
            "93149          0   shopping_pos  4.873780e+15  \n",
            "14680          0    food_dining  3.434730e+14  \n",
            "26127          0           home  4.430880e+15  \n",
            "113736         0       misc_pos  6.011600e+15  \n",
            "...          ...            ...           ...  \n",
            "134655         0      kids_pets  5.020500e+11  \n",
            "81127          0       misc_pos  1.800670e+14  \n",
            "127601         0  entertainment  4.841310e+15  \n",
            "39417          0  gas_transport  2.713910e+15  \n",
            "123650         0  entertainment  3.583290e+15  \n",
            "\n",
            "[41862 rows x 6 columns]\n"
          ]
        }
      ],
      "source": [
        "print(\"Test Data:\")\n",
        "print(df_test)"
      ]
    },
    {
      "cell_type": "code",
      "execution_count": null,
      "id": "af09128e",
      "metadata": {
        "id": "af09128e",
        "outputId": "068632b8-f985-4729-f3e6-dee4283d15d8"
      },
      "outputs": [
        {
          "name": "stdout",
          "output_type": "stream",
          "text": [
            "The amount of transactions in the training set:\n",
            "count    97676.000000\n",
            "mean        68.838705\n",
            "std        169.484718\n",
            "min          1.000000\n",
            "25%          9.610000\n",
            "50%         47.220000\n",
            "75%         82.530000\n",
            "max      21437.710000\n",
            "Name: amount, dtype: float64\n",
            "The amount of transactions in the testing set:\n",
            "count    41862.000000\n",
            "mean        68.779410\n",
            "std        182.233559\n",
            "min          1.000000\n",
            "25%          9.740000\n",
            "50%         47.255000\n",
            "75%         83.010000\n",
            "max      22768.110000\n",
            "Name: amount, dtype: float64\n"
          ]
        }
      ],
      "source": [
        "# Analyze the 'amount' attribute on the training set\n",
        "amt_analysis_train = df_train['amount'].describe()\n",
        "print(\"The amount of transactions in the training set:\")\n",
        "print(amt_analysis_train)\n",
        "\n",
        "# Analyze the 'amount' attribute on the testing set\n",
        "amt_analysis_test = df_test['amount'].describe()\n",
        "print(\"The amount of transactions in the testing set:\")\n",
        "print(amt_analysis_test)"
      ]
    },
    {
      "cell_type": "code",
      "execution_count": null,
      "id": "ac108048",
      "metadata": {
        "id": "ac108048",
        "outputId": "36b41383-15f9-42a8-e139-9bba2d38f23a"
      },
      "outputs": [
        {
          "name": "stdout",
          "output_type": "stream",
          "text": [
            "The transaction provider in the training set:\n",
            "fraud_Kilback LLC                       319\n",
            "fraud_Cormier LLC                       284\n",
            "fraud_Schumm PLC                        284\n",
            "fraud_Boyer PLC                         273\n",
            "fraud_Kuhn LLC                          266\n",
            "                                       ... \n",
            "fraud_Kunze, Larkin and Mayert           48\n",
            "fraud_Champlin, Rolfson and Connelly     46\n",
            "fraud_Satterfield-Lowe                   44\n",
            "fraud_Skiles-Ankunding                   44\n",
            "fraud_Douglas, DuBuque and McKenzie      44\n",
            "Name: merchant, Length: 693, dtype: int64\n",
            "====================================\n",
            "The transaction provider in the testing set:\n",
            "fraud_Kilback LLC                        138\n",
            "fraud_Dickinson Ltd                      132\n",
            "fraud_Cormier LLC                        122\n",
            "fraud_Emard Inc                          113\n",
            "fraud_Kuhn LLC                           112\n",
            "                                        ... \n",
            "fraud_Tromp Group                         18\n",
            "fraud_Block-Hauck                         17\n",
            "fraud_Breitenberg LLC                     17\n",
            "fraud_Hodkiewicz, Prohaska and Paucek     16\n",
            "fraud_Kohler, Lindgren and Koelpin        15\n",
            "Name: merchant, Length: 693, dtype: int64\n"
          ]
        }
      ],
      "source": [
        "# Analyze the 'merchant' attribute on the training set\n",
        "merchant_count_train = df_train['merchant'].value_counts()\n",
        "print(\"The transaction provider in the training set:\")\n",
        "print(merchant_count_train)\n",
        "# Analyze the 'merchant' attribute on the testing set\n",
        "merchant_count_test = df_test['merchant'].value_counts()\n",
        "print(\"====================================\")\n",
        "print(\"The transaction provider in the testing set:\")\n",
        "print(merchant_count_test)"
      ]
    },
    {
      "cell_type": "code",
      "execution_count": null,
      "id": "b011c845",
      "metadata": {
        "id": "b011c845",
        "outputId": "a1d50840-eab1-4998-f2e9-f374cb8ae21b"
      },
      "outputs": [
        {
          "name": "stdout",
          "output_type": "stream",
          "text": [
            "Analyze the 'category' column in the training set:\n",
            "gas_transport     10047\n",
            "home               9201\n",
            "grocery_pos        9187\n",
            "shopping_pos       8876\n",
            "kids_pets          8553\n",
            "shopping_net       7338\n",
            "personal_care      6985\n",
            "entertainment      6918\n",
            "food_dining        6701\n",
            "health_fitness     6462\n",
            "misc_pos           6109\n",
            "misc_net           4821\n",
            "grocery_net        3420\n",
            "travel             3058\n",
            "Name: category, dtype: int64\n",
            "====================================\n",
            "Analyze the 'category' column in the testing set.:\n",
            "gas_transport     4273\n",
            "home              4036\n",
            "grocery_pos       3934\n",
            "shopping_pos      3781\n",
            "kids_pets         3600\n",
            "entertainment     3124\n",
            "shopping_net      3123\n",
            "personal_care     2966\n",
            "food_dining       2848\n",
            "health_fitness    2753\n",
            "misc_pos          2632\n",
            "misc_net          2010\n",
            "grocery_net       1522\n",
            "travel            1260\n",
            "Name: category, dtype: int64\n"
          ]
        }
      ],
      "source": [
        "# Analyze the 'category' attribute on the training set\n",
        "category_counts_train = df_train['category'].value_counts()\n",
        "print(\"Analyze the 'category' column in the training set:\")\n",
        "print(category_counts_train)\n",
        "# Analyze the 'category' attribute on the testing set\n",
        "category_counts_test = df_test['category'].value_counts()\n",
        "print(\"====================================\")\n",
        "print(\"Analyze the 'category' column in the testing set.:\")\n",
        "print(category_counts_test)"
      ]
    },
    {
      "cell_type": "code",
      "execution_count": null,
      "id": "70f77101",
      "metadata": {
        "scrolled": false,
        "id": "70f77101",
        "outputId": "2bbad651-6a4c-4ba9-8a5c-75d3e7146586"
      },
      "outputs": [
        {
          "name": "stdout",
          "output_type": "stream",
          "text": [
            "The number of transactions per day in the training set:\n",
            "2020-12-01    4349\n",
            "2020-12-02    2048\n",
            "2020-12-03    2293\n",
            "2020-12-04    2641\n",
            "2020-12-05    2656\n",
            "2020-12-06    3765\n",
            "2020-12-07    4617\n",
            "2020-12-08    4288\n",
            "2020-12-09    2085\n",
            "2020-12-10    2411\n",
            "2020-12-11    2676\n",
            "2020-12-12    2528\n",
            "2020-12-13    3770\n",
            "2020-12-14    4510\n",
            "2020-12-15    4285\n",
            "2020-12-16    2114\n",
            "2020-12-17    2328\n",
            "2020-12-18    2679\n",
            "2020-12-19    2596\n",
            "2020-12-20    3829\n",
            "2020-12-21    4478\n",
            "2020-12-22    4244\n",
            "2020-12-23    2061\n",
            "2020-12-24    2288\n",
            "2020-12-25    2588\n",
            "2020-12-26    2658\n",
            "2020-12-27    3741\n",
            "2020-12-28    4386\n",
            "2020-12-29    4353\n",
            "2020-12-30    2101\n",
            "2020-12-31    2310\n",
            "Name: transaction_date, dtype: int64\n"
          ]
        }
      ],
      "source": [
        "# Convert the transaction_time format to a timestamp\n",
        "df_train['transaction_time'] = pd.to_datetime(df_train['transaction_time'])\n",
        "df_test['transaction_time'] = pd.to_datetime(df_test['transaction_time'])\n",
        "\n",
        "# Create a new column 'transaction_date' containing only the date from the 'transaction_time' column\n",
        "df_train['transaction_date'] = df_train['transaction_time'].dt.date\n",
        "df_test['transaction_date'] = df_test['transaction_time'].dt.date\n",
        "\n",
        "# Analyze the number of transactions per day in the training and testing sets\n",
        "transaction_counts_train = df_train['transaction_date'].value_counts().sort_index()\n",
        "transaction_counts_test = df_test['transaction_date'].value_counts().sort_index()\n",
        "print(\"The number of transactions per day in the training set:\")\n",
        "print(transaction_counts_train)"
      ]
    },
    {
      "cell_type": "code",
      "execution_count": null,
      "id": "e3d6a8d1",
      "metadata": {
        "id": "e3d6a8d1",
        "outputId": "7807aba9-2a68-40e7-99fd-8c6587be6ebd"
      },
      "outputs": [
        {
          "name": "stdout",
          "output_type": "stream",
          "text": [
            "The number of transactions per day in the testing set:\n",
            "2020-12-01    1855\n",
            "2020-12-02     943\n",
            "2020-12-03     971\n",
            "2020-12-04    1044\n",
            "2020-12-05    1129\n",
            "2020-12-06    1632\n",
            "2020-12-07    1889\n",
            "2020-12-08    1876\n",
            "2020-12-09     889\n",
            "2020-12-10    1040\n",
            "2020-12-11    1117\n",
            "2020-12-12    1113\n",
            "2020-12-13    1630\n",
            "2020-12-14    1890\n",
            "2020-12-15    1765\n",
            "2020-12-16     898\n",
            "2020-12-17    1102\n",
            "2020-12-18    1151\n",
            "2020-12-19    1109\n",
            "2020-12-20    1602\n",
            "2020-12-21    1912\n",
            "2020-12-22    1879\n",
            "2020-12-23     880\n",
            "2020-12-24     997\n",
            "2020-12-25    1061\n",
            "2020-12-26    1111\n",
            "2020-12-27    1606\n",
            "2020-12-28    1935\n",
            "2020-12-29    1852\n",
            "2020-12-30     917\n",
            "2020-12-31    1067\n",
            "Name: transaction_date, dtype: int64\n"
          ]
        }
      ],
      "source": [
        "print(\"The number of transactions per day in the testing set:\")\n",
        "print(transaction_counts_test)"
      ]
    },
    {
      "cell_type": "code",
      "execution_count": null,
      "id": "f6c1ec3c",
      "metadata": {
        "id": "f6c1ec3c"
      },
      "outputs": [],
      "source": [
        "from neo4j import GraphDatabase\n",
        "# Initialize driver object\n",
        "driver = GraphDatabase.driver(\"bolt://localhost:7687\", auth=(\"neo4j\", \"12345678\"))"
      ]
    },
    {
      "cell_type": "code",
      "execution_count": null,
      "id": "967b74c9",
      "metadata": {
        "id": "967b74c9"
      },
      "outputs": [],
      "source": [
        "# Extract the amount from the transactions - training set\n",
        "def extract_transaction_amounts():\n",
        "    with driver.session() as session:\n",
        "        result = session.run(\n",
        "            \"\"\"\n",
        "            MATCH (t:Transaction)\n",
        "            WHERE t.train = true\n",
        "            RETURN t.amt AS amount\n",
        "            \"\"\"\n",
        "        )\n",
        "        return [record[\"amount\"] for record in result]"
      ]
    },
    {
      "cell_type": "code",
      "execution_count": null,
      "id": "eae9c409",
      "metadata": {
        "id": "eae9c409",
        "outputId": "5fcabb30-8673-4149-85c0-d7c19ec9424e"
      },
      "outputs": [
        {
          "name": "stdout",
          "output_type": "stream",
          "text": [
            "Threshold:  634.4636330610431\n"
          ]
        }
      ],
      "source": [
        "import numpy as np\n",
        "# Compute the threshold based on the mean value and standard deviation - training set\n",
        "def calculate_threshold(amounts):\n",
        "    mean = np.mean(amounts)\n",
        "    std = np.std(amounts)\n",
        "    threshold = mean + 3 * std\n",
        "    return threshold\n",
        "\n",
        "# Extract the amount from the transactions - training set\n",
        "transaction_amounts = extract_transaction_amounts()\n",
        "\n",
        "# Calculate threshold\n",
        "threshold = calculate_threshold(transaction_amounts)\n",
        "\n",
        "print(\"Threshold: \", threshold)"
      ]
    },
    {
      "cell_type": "code",
      "execution_count": null,
      "id": "22733a95",
      "metadata": {
        "id": "22733a95"
      },
      "outputs": [],
      "source": [
        "# Retrieve nodes on Neo4j for transactions that exceed the threshold (training set):\n",
        "        # MATCH (c:Customer)-[:MADE_TRANSACTION]->(t:Transaction)-[:RELATED_TO]->(m:Merch)\n",
        "        # WHERE t.amt > 634.4636330610431 AND t.is_fraud = 1 AND t.train = true\n",
        "        # WITH collect(c) AS customers, collect(t) AS transactions, collect(m) AS merch\n",
        "        # RETURN customers, transactions, merch"
      ]
    },
    {
      "cell_type": "code",
      "execution_count": null,
      "id": "adcd736b",
      "metadata": {
        "id": "adcd736b"
      },
      "outputs": [],
      "source": [
        "# Extract the amount from the transactions - training set\n",
        "def find_transactions_above_threshold():\n",
        "    with driver.session() as session:\n",
        "        result = session.run(\n",
        "            \"\"\"\n",
        "            MATCH (t:Transaction)\n",
        "            WHERE t.amt > $threshold AND t.train = true AND t.is_fraud = 1\n",
        "            RETURN t\n",
        "            ORDER BY t.amt DESC\n",
        "            LIMIT 10\n",
        "            \"\"\",\n",
        "            threshold=threshold\n",
        "        )\n",
        "        return [record[\"t\"] for record in result]\n",
        "\n",
        "# Process the results\n",
        "transactions_above_threshold = find_transactions_above_threshold()"
      ]
    },
    {
      "cell_type": "code",
      "execution_count": null,
      "id": "87a58c4f",
      "metadata": {
        "id": "87a58c4f",
        "outputId": "12974df7-f79a-4d65-c877-221bf38e6567"
      },
      "outputs": [
        {
          "name": "stdout",
          "output_type": "stream",
          "text": [
            "The transactions with abnormal amounts in the training set:\n",
            "Transaction Date     Amount     Merchant                                 Category                       CC_Number      \n",
            "-------------------------------------------------------------------------------------------------------------------\n",
            "12/2/2020            1183.93    fraud_Beier-Hyatt                        shopping_pos         3588000000000000\n",
            "12/16/2020           1158.64    fraud_Terry-Huel                         shopping_net         639046000000   \n",
            "12/8/2020            1128.83    fraud_Lemke-Gutmann                      shopping_net         213181000000000\n",
            "12/19/2020           1121.05    fraud_Schumm PLC                         shopping_net         374125000000000\n",
            "12/8/2020            1115.54    fraud_Hills-Witting                      shopping_net         3545110000000000\n",
            "12/5/2020            1107.65    fraud_Turner and Sons                    shopping_pos         630423000000   \n",
            "12/11/2020           1103.29    fraud_Stoltenberg-Beatty                 shopping_pos         3596220000000000\n",
            "12/6/2020            1073.81    fraud_Boyer PLC                          shopping_net         3564180000000000\n",
            "12/4/2020            1068.48    fraud_Auer-West                          shopping_net         213157000000000\n",
            "12/2/2020            1061.37    fraud_Predovic Inc                       shopping_net         3588000000000000\n"
          ]
        }
      ],
      "source": [
        "print(\"The transactions with abnormal amounts in the training set:\")\n",
        "# Print column headers\n",
        "print(\"{:<20s} {:<10s} {:<40s} {:<30s} {:<15s}\".format(\"Transaction Date\", \"Amount\", \"Merchant\", \"Category\", \"CC_Number\"))\n",
        "\n",
        "# Print the dividing line\n",
        "print(\"-\" * 115)\n",
        "\n",
        "# Print the data for each transaction\n",
        "for transaction in transactions_above_threshold:\n",
        "    trans_date_trans_time = transaction[\"trans_date_trans_time\"]\n",
        "    amt = transaction[\"amt\"]\n",
        "    merchant = transaction[\"merchant\"]\n",
        "    category = transaction[\"category\"]\n",
        "    cc_num = transaction[\"cc_num\"]\n",
        "    print(\"{:<20s} {:<10.2f} {:<40s} {:<20s} {:<15.0f}\".format(trans_date_trans_time, amt, merchant, category, cc_num))"
      ]
    },
    {
      "cell_type": "code",
      "execution_count": null,
      "id": "4af301c0",
      "metadata": {
        "id": "4af301c0"
      },
      "outputs": [],
      "source": [
        "# Extract the amount from the transactions - testing set\n",
        "def extract_transaction_amounts():\n",
        "    with driver.session() as session:\n",
        "        result = session.run(\n",
        "            \"\"\"\n",
        "            MATCH (t:Transaction)\n",
        "            WHERE t.train = false\n",
        "            RETURN t.amt AS amount\n",
        "            \"\"\"\n",
        "        )\n",
        "        return [record[\"amount\"] for record in result]"
      ]
    },
    {
      "cell_type": "code",
      "execution_count": null,
      "id": "71cd0f13",
      "metadata": {
        "id": "71cd0f13",
        "outputId": "2a40820d-ffb0-4b5e-9153-01f9572e435c"
      },
      "outputs": [
        {
          "name": "stdout",
          "output_type": "stream",
          "text": [
            "Threshold:  463.43911408087143\n"
          ]
        }
      ],
      "source": [
        "# Compute the threshold based on the mean value and standard deviation - testing set\n",
        "def calculate_threshold(amounts):\n",
        "    mean = np.mean(amounts)\n",
        "    std = np.std(amounts)\n",
        "    threshold = mean + 3 * std\n",
        "    return threshold\n",
        "\n",
        "# Extract the amount from the transactions - testing set\n",
        "transaction_amounts = extract_transaction_amounts()\n",
        "\n",
        "# Calculate threshold\n",
        "threshold = calculate_threshold(transaction_amounts)\n",
        "\n",
        "print(\"Threshold: \", threshold)"
      ]
    },
    {
      "cell_type": "code",
      "execution_count": null,
      "id": "f4b5049a",
      "metadata": {
        "id": "f4b5049a"
      },
      "outputs": [],
      "source": [
        "# Retrieve nodes on Neo4j for transactions that exceed the threshold (testing set):\n",
        "        # MATCH (c:Customer)-[:MADE_TRANSACTION]->(t:Transaction)-[:RELATED_TO]->(m:Merch)\n",
        "        # WHERE t.amt > 463.43911408087143 AND t.is_fraud = 1 AND t.train = false\n",
        "        # WITH collect(c) AS customers, collect(t) AS transactions, collect(m) AS merch\n",
        "        # RETURN customers, transactions, merch"
      ]
    },
    {
      "cell_type": "code",
      "execution_count": null,
      "id": "c0ca1c8c",
      "metadata": {
        "id": "c0ca1c8c"
      },
      "outputs": [],
      "source": [
        "# Extract the amount from the transactions - testing set\n",
        "def find_transactions_above_threshold():\n",
        "    with driver.session() as session:\n",
        "        result = session.run(\n",
        "            \"\"\"\n",
        "            MATCH (t:Transaction)\n",
        "            WHERE t.amt > $threshold AND t.train = false AND t.is_fraud = 1\n",
        "            RETURN t\n",
        "            ORDER BY t.amt DESC\n",
        "            LIMIT 10\n",
        "            \"\"\",\n",
        "            threshold=threshold\n",
        "        )\n",
        "        return [record[\"t\"] for record in result]\n",
        "\n",
        "# Process the results\n",
        "transactions_above_threshold = find_transactions_above_threshold()"
      ]
    },
    {
      "cell_type": "code",
      "execution_count": null,
      "id": "e2b918ef",
      "metadata": {
        "id": "e2b918ef",
        "outputId": "5fe9da84-e2fb-4e40-ecc0-22201664400c"
      },
      "outputs": [
        {
          "name": "stdout",
          "output_type": "stream",
          "text": [
            "The transactions with abnormal amounts in the testing set:\n",
            "Transaction Date     Amount     Merchant                                 Category                       CC_Number      \n",
            "-------------------------------------------------------------------------------------------------------------------\n",
            "12/2/2020            1318.89    fraud_Torphy-Goyette                     shopping_pos         3588000000000000\n",
            "12/9/2020            1155.37    fraud_Heathcote, Yost and Kertzmann      shopping_net         30093000000000 \n",
            "12/8/2020            1153.76    fraud_Altenwerth, Cartwright and Koss    shopping_net         3591920000000000\n",
            "12/11/2020           1123.99    fraud_Kerluke-Abshire                    shopping_net         3596360000000000\n",
            "12/2/2020            1118.24    fraud_Barrows PLC                        shopping_pos         3588000000000000\n",
            "12/6/2020            1099.03    fraud_Langworth, Boehm and Gulgowski     shopping_net         3564180000000000\n",
            "12/5/2020            1086.32    fraud_Reichert, Shanahan and Hayes       shopping_net         4292740000000000000\n",
            "12/15/2020           1065.89    fraud_Schumm PLC                         shopping_net         6011490000000000\n",
            "12/1/2020            1061.02    fraud_Kuhic LLC                          shopping_net         377835000000000\n",
            "12/22/2020           1039.42    fraud_Mosciski, Ziemann and Farrell      shopping_net         2242180000000000\n"
          ]
        }
      ],
      "source": [
        "print(\"The transactions with abnormal amounts in the testing set:\")\n",
        "# Print column headers\n",
        "print(\"{:<20s} {:<10s} {:<40s} {:<30s} {:<15s}\".format(\"Transaction Date\", \"Amount\", \"Merchant\", \"Category\", \"CC_Number\"))\n",
        "\n",
        "# Print the dividing line\n",
        "print(\"-\" * 115)\n",
        "\n",
        "# Print the data for each transaction\n",
        "for transaction in transactions_above_threshold:\n",
        "    trans_date_trans_time = transaction[\"trans_date_trans_time\"]\n",
        "    amt = transaction[\"amt\"]\n",
        "    merchant = transaction[\"merchant\"]\n",
        "    category = transaction[\"category\"]\n",
        "    cc_num = transaction[\"cc_num\"]\n",
        "    print(\"{:<20s} {:<10.2f} {:<40s} {:<20s} {:<15.0f}\".format(trans_date_trans_time, amt, merchant, category, cc_num))"
      ]
    },
    {
      "cell_type": "code",
      "execution_count": null,
      "id": "011d9a04",
      "metadata": {
        "id": "011d9a04",
        "outputId": "a13549f7-a4ad-46ae-8ec4-80b5597f7a28"
      },
      "outputs": [
        {
          "name": "stdout",
          "output_type": "stream",
          "text": [
            "List of common merchants:\n",
            "['fraud_Kilback LLC', 'fraud_Cormier LLC', 'fraud_Kuhn LLC', 'fraud_Schumm PLC', 'fraud_Boyer PLC', 'fraud_Dickinson Ltd', 'fraud_Emard Inc', 'fraud_Raynor, Reinger and Hagenes', 'fraud_Huels-Hahn', 'fraud_Wuckert-Goldner']\n"
          ]
        }
      ],
      "source": [
        "# Extract a list of common merchants from the training set\n",
        "def get_common_merchants():\n",
        "    with driver.session() as session:\n",
        "        result = session.run(\n",
        "            \"\"\"\n",
        "            MATCH (m:Merch)\n",
        "            WHERE m.train = true\n",
        "            WITH m.merchant AS merchant, COUNT(*) AS count\n",
        "            RETURN merchant\n",
        "            ORDER BY count DESC\n",
        "            LIMIT 10\n",
        "            \"\"\"\n",
        "        )\n",
        "        return [record[\"merchant\"] for record in result]\n",
        "# Extract a list of common merchants.\n",
        "common_merchants = get_common_merchants()\n",
        "print(\"List of common merchants:\")\n",
        "print(common_merchants)"
      ]
    },
    {
      "cell_type": "code",
      "execution_count": null,
      "id": "12880955",
      "metadata": {
        "id": "12880955"
      },
      "outputs": [],
      "source": [
        "# Retrieve nodes on Neo4j for transactions from uncommon merchants (training set):\n",
        "        # MATCH (c:Customer)-[:MADE_TRANSACTION]->(t:Transaction)-[:RELATED_TO]->(m:Merch)\n",
        "        # WHERE NOT m.merchant IN ['fraud_Kilback LLC', 'fraud_Cormier LLC', 'fraud_Kuhn LLC', 'fraud_Schumm PLC', 'fraud_Boyer PLC', 'fraud_Dickinson Ltd', 'fraud_Emard Inc', 'fraud_Raynor, Reinger and Hagenes', 'fraud_Huels-Hahn', 'fraud_Wuckert-Goldner']\n",
        "        # AND m.train = true AND t.is_fraud = 1\n",
        "        # RETURN c, t, m\n",
        "        # ORDER BY t.amt DESC\n",
        "        # LIMIT 10"
      ]
    },
    {
      "cell_type": "code",
      "execution_count": null,
      "id": "23615694",
      "metadata": {
        "id": "23615694"
      },
      "outputs": [],
      "source": [
        "# Extract a list of uncommon merchants from the training set\n",
        "def find_transactions_from_uncommon_merchants(common_merchants):\n",
        "    with driver.session() as session:\n",
        "        result = session.run(\n",
        "            \"\"\"\n",
        "            MATCH (t:Transaction)-[:RELATED_TO]->(m:Merch)\n",
        "            WHERE NOT m.merchant IN $common_merchants AND m.train = true AND t.is_fraud = 1\n",
        "            RETURN t\n",
        "            ORDER BY t.amt DESC\n",
        "            LIMIT 10\n",
        "            \"\"\",\n",
        "            common_merchants=common_merchants\n",
        "        )\n",
        "        return [record[\"t\"] for record in result]\n",
        "# Identify the transactions from uncommon merchants\n",
        "transactions_from_uncommon_merchants = find_transactions_from_uncommon_merchants(common_merchants)"
      ]
    },
    {
      "cell_type": "code",
      "execution_count": null,
      "id": "14eaeb26",
      "metadata": {
        "id": "14eaeb26",
        "outputId": "743bbf53-73be-450e-a939-63f53dcd39de"
      },
      "outputs": [
        {
          "name": "stdout",
          "output_type": "stream",
          "text": [
            "The transactions from uncommon merchants in the training set:\n",
            "Transaction Date     Category        Amount     Merchant                       CC_Number      \n",
            "-----------------------------------------------------------------------------------------------\n",
            "12/2/2020            shopping_pos    1183.93    fraud_Beier-Hyatt              3588000000000000\n",
            "12/16/2020           shopping_net    1158.64    fraud_Terry-Huel               639046000000   \n",
            "12/8/2020            shopping_net    1128.83    fraud_Lemke-Gutmann            213181000000000\n",
            "12/8/2020            shopping_net    1115.54    fraud_Hills-Witting            3545110000000000\n",
            "12/5/2020            shopping_pos    1107.65    fraud_Turner and Sons          630423000000   \n",
            "12/11/2020           shopping_pos    1103.29    fraud_Stoltenberg-Beatty       3596220000000000\n",
            "12/4/2020            shopping_net    1068.48    fraud_Auer-West                213157000000000\n",
            "12/2/2020            shopping_net    1061.37    fraud_Predovic Inc             3588000000000000\n",
            "12/16/2020           shopping_net    1056.99    fraud_Zboncak, Rowe and Murazi 2714020000000000\n",
            "12/22/2020           shopping_pos    1041.51    fraud_Willms, Kris and Bergnau 2242180000000000\n"
          ]
        }
      ],
      "source": [
        "print(\"The transactions from uncommon merchants in the training set:\")\n",
        "# Print column headers\n",
        "print(\"{:<20s} {:<15s} {:<10s} {:<30s} {:<15s}\".format(\"Transaction Date\", \"Category\", \"Amount\", \"Merchant\", \"CC_Number\"))\n",
        "# Print the dividing line\n",
        "print(\"-\" * 95)\n",
        "# Print the data information of transaction\n",
        "for transaction in transactions_from_uncommon_merchants:\n",
        "    transaction_date = transaction[\"trans_date_trans_time\"]\n",
        "    category = transaction[\"category\"]\n",
        "    amount = transaction[\"amt\"]\n",
        "    merchant = transaction[\"merchant\"]\n",
        "    cc_num = transaction[\"cc_num\"]\n",
        "    print(\"{:<20s} {:<15s} {:<10.2f} {:<30s} {:<15.0f}\".format(str(transaction_date)[:20], str(category)[:15], amount, str(merchant)[:30], cc_num))"
      ]
    },
    {
      "cell_type": "code",
      "execution_count": null,
      "id": "b8e3f641",
      "metadata": {
        "id": "b8e3f641",
        "outputId": "cdf1c2a0-747c-4b35-9948-93b9c2246e8b"
      },
      "outputs": [
        {
          "name": "stdout",
          "output_type": "stream",
          "text": [
            "List of common merchants:\n",
            "['fraud_Botsford and Sons', 'fraud_Leannon-Ward', 'fraud_Bahringer, Osinski and Block', 'fraud_Kunze Inc', 'fraud_Kassulke Inc', 'fraud_Bartoletti and Sons', 'fraud_Marks Inc', 'fraud_Miller-Harris', 'fraud_Morissette PLC', 'fraud_Bradtke PLC']\n"
          ]
        }
      ],
      "source": [
        "# Extract a list of common merchants from the testing set\n",
        "def get_common_merchants():\n",
        "    with driver.session() as session:\n",
        "        result = session.run(\n",
        "            \"\"\"\n",
        "            MATCH (m:Merch)\n",
        "            WHERE m.train = false\n",
        "            RETURN m.merchant AS merchant\n",
        "            LIMIT 10\n",
        "            \"\"\"\n",
        "        )\n",
        "        return [record[\"merchant\"] for record in result]\n",
        "# Extract a list of common merchants\n",
        "common_merchants = get_common_merchants()\n",
        "print(\"List of common merchants:\")\n",
        "print(common_merchants)"
      ]
    },
    {
      "cell_type": "code",
      "execution_count": null,
      "id": "63b4e875",
      "metadata": {
        "id": "63b4e875"
      },
      "outputs": [],
      "source": [
        "# Retrieve nodes on Neo4j for transactions from uncommon merchants (testing set)\n",
        "        # MATCH (c:Customer)-[:MADE_TRANSACTION]->(t:Transaction)-[:RELATED_TO]->(m:Merch)\n",
        "        # WHERE NOT m.merchant IN ['fraud_Botsford and Sons', 'fraud_Leannon-Ward', 'fraud_Bahringer, Osinski and Block', 'fraud_Kunze Inc', 'fraud_Kassulke Inc', 'fraud_Bartoletti and Sons', 'fraud_Marks Inc', 'fraud_Miller-Harris', 'fraud_Morissette PLC', 'fraud_Bradtke PLC']\n",
        "        # AND m.train = false AND t.is_fraud = 1\n",
        "        # RETURN c, t, m\n",
        "        # ORDER BY t.amt DESC\n",
        "        # LIMIT 10"
      ]
    },
    {
      "cell_type": "code",
      "execution_count": null,
      "id": "fe294b78",
      "metadata": {
        "id": "fe294b78"
      },
      "outputs": [],
      "source": [
        "# Extract a list of uncommon merchants from the testing set\n",
        "def find_transactions_from_uncommon_merchants(common_merchants):\n",
        "    with driver.session() as session:\n",
        "        result = session.run(\n",
        "            \"\"\"\n",
        "            MATCH (t:Transaction)-[:RELATED_TO]->(m:Merch)\n",
        "            WHERE NOT m.merchant IN $common_merchants AND m.train = false AND t.is_fraud = 1\n",
        "            RETURN t\n",
        "            ORDER BY t.amt DESC\n",
        "            LIMIT 10\n",
        "            \"\"\",\n",
        "            common_merchants=common_merchants\n",
        "        )\n",
        "        return [record[\"t\"] for record in result]\n",
        "# Identify the transactions from uncommon merchants\n",
        "transactions_from_uncommon_merchants = find_transactions_from_uncommon_merchants(common_merchants)"
      ]
    },
    {
      "cell_type": "code",
      "execution_count": null,
      "id": "97a1c58b",
      "metadata": {
        "id": "97a1c58b",
        "outputId": "6f569610-ccd0-4dfd-d8ec-e93bb3484e02"
      },
      "outputs": [
        {
          "name": "stdout",
          "output_type": "stream",
          "text": [
            "The transactions from uncommon merchants in the testing set:\n",
            "Transaction Date     Category        Amount     Merchant                      \n",
            "-----------------------------------------------------------------------------------------------\n",
            "12/2/2020            shopping_pos    1318.89    fraud_Torphy-Goyette           3588000000000000\n",
            "12/9/2020            shopping_net    1155.37    fraud_Heathcote, Yost and Kert 30093000000000 \n",
            "12/8/2020            shopping_net    1153.76    fraud_Altenwerth, Cartwright a 3591920000000000\n",
            "12/11/2020           shopping_net    1123.99    fraud_Kerluke-Abshire          3596360000000000\n",
            "12/2/2020            shopping_pos    1118.24    fraud_Barrows PLC              3588000000000000\n",
            "12/6/2020            shopping_net    1099.03    fraud_Langworth, Boehm and Gul 3564180000000000\n",
            "12/5/2020            shopping_net    1086.32    fraud_Reichert, Shanahan and H 4292740000000000000\n",
            "12/15/2020           shopping_net    1065.89    fraud_Schumm PLC               6011490000000000\n",
            "12/1/2020            shopping_net    1061.02    fraud_Kuhic LLC                377835000000000\n",
            "12/22/2020           shopping_net    1039.42    fraud_Mosciski, Ziemann and Fa 2242180000000000\n"
          ]
        }
      ],
      "source": [
        "print(\"The transactions from uncommon merchants in the testing set:\")\n",
        "# Print column headers\n",
        "print(\"{:<20s} {:<15s} {:<10s} {:<30s}\".format(\"Transaction Date\", \"Category\", \"Amount\", \"Merchant\", \"CC_Number\"))\n",
        "# Print the dividing line\n",
        "print(\"-\" * 95)\n",
        "# Print the data information of transaction\n",
        "for transaction in transactions_from_uncommon_merchants:\n",
        "    transaction_date = transaction[\"trans_date_trans_time\"]\n",
        "    category = transaction[\"category\"]\n",
        "    amount = transaction[\"amt\"]\n",
        "    merchant = transaction[\"merchant\"]\n",
        "    cc_num = transaction[\"cc_num\"]\n",
        "    print(\"{:<20s} {:<15s} {:<10.2f} {:<30s} {:<15.0f}\".format(str(transaction_date)[:20], str(category)[:15], amount, str(merchant)[:30], cc_num))"
      ]
    },
    {
      "cell_type": "code",
      "execution_count": null,
      "id": "ca87ebba",
      "metadata": {
        "id": "ca87ebba",
        "outputId": "2e21ccae-9209-4dfc-d84c-a36c34304b34"
      },
      "outputs": [
        {
          "name": "stdout",
          "output_type": "stream",
          "text": [
            "List of common categories:\n",
            "gas_transport\n",
            "home\n",
            "grocery_pos\n",
            "shopping_pos\n",
            "kids_pets\n",
            "shopping_net\n",
            "entertainment\n",
            "personal_care\n",
            "food_dining\n",
            "health_fitness\n"
          ]
        }
      ],
      "source": [
        "# Extract a list of common categories from the training set\n",
        "def get_common_categories():\n",
        "    with driver.session() as session:\n",
        "        result = session.run(\n",
        "            \"\"\"\n",
        "            MATCH (m:Merch)\n",
        "            WHERE m.train = true\n",
        "            WITH m.category AS category, COUNT(*) AS count\n",
        "            RETURN category\n",
        "            ORDER BY count DESC\n",
        "            LIMIT 10\n",
        "            \"\"\"\n",
        "        )\n",
        "        return [record[\"category\"] for record in result]\n",
        "\n",
        "# Retrieve a list of common categories\n",
        "common_categories = get_common_categories()\n",
        "\n",
        "# Print the result\n",
        "print(\"List of common categories:\")\n",
        "for category in common_categories:\n",
        "    print(category)"
      ]
    },
    {
      "cell_type": "code",
      "execution_count": null,
      "id": "b2f9fed0",
      "metadata": {
        "id": "b2f9fed0"
      },
      "outputs": [],
      "source": [
        "# Retrieve nodes on Neo4j for transactions from uncommon categories (training set):\n",
        "        # MATCH (c:Customer)-[:MADE_TRANSACTION]->(t:Transaction)-[:RELATED_TO]->(m:Merch)\n",
        "        # WHERE NOT m.category IN ['gas_transport', 'home', 'grocery_pos', 'shopping_pos', 'kids_pets', 'shopping_net', 'entertainment', 'personal_care', 'food_dining', 'health_fitness']\n",
        "        # AND m.train = true AND t.is_fraud = 1\n",
        "        # RETURN c, t, m\n",
        "        # ORDER BY t.amt DESC\n",
        "        # LIMIT 10"
      ]
    },
    {
      "cell_type": "code",
      "execution_count": null,
      "id": "a3ce10b3",
      "metadata": {
        "id": "a3ce10b3"
      },
      "outputs": [],
      "source": [
        "# Extract a list of uncommon categories from the training set\n",
        "def find_transactions_from_uncommon_category(common_categories):\n",
        "    with driver.session() as session:\n",
        "        result = session.run(\n",
        "            \"\"\"\n",
        "            MATCH (t:Transaction)-[:RELATED_TO]->(m:Merch)\n",
        "            WHERE NOT m.category IN $common_categories AND m.train = true AND t.is_fraud = 1\n",
        "            RETURN t\n",
        "            ORDER BY t.amt DESC\n",
        "            LIMIT 10\n",
        "            \"\"\",\n",
        "            common_categories=common_categories\n",
        "        )\n",
        "        return [record[\"t\"] for record in result]\n",
        "\n",
        "# Determine the transactions from uncommon categories\n",
        "transactions_from_uncommon_category = find_transactions_from_uncommon_category(common_categories)"
      ]
    },
    {
      "cell_type": "code",
      "execution_count": null,
      "id": "707b9159",
      "metadata": {
        "id": "707b9159",
        "outputId": "ca756bbd-7034-4457-a882-440485821e04"
      },
      "outputs": [
        {
          "name": "stdout",
          "output_type": "stream",
          "text": [
            "The transactions from uncommon categories in the training set:\n",
            "Transaction Date     Category        Amount     Merchant                       CC_Number           \n",
            "------------------------------------------------------------------------------------------\n",
            "12/14/2020           misc_net        938.80     fraud_Herman, Treutel and Dick 377550000000000\n",
            "12/1/2020            misc_pos        913.04     fraud_Gutmann-Upton            30267000000000 \n",
            "12/17/2020           misc_net        890.81     fraud_Donnelly PLC             2714020000000000\n",
            "12/16/2020           misc_net        848.91     fraud_Rippin, Kub and Mann     180040000000000\n",
            "12/6/2020            misc_net        846.50     fraud_Huel-Langworth           4292740000000000000\n",
            "12/7/2020            misc_net        835.30     fraud_Huel Ltd                 30518200000000 \n",
            "12/19/2020           misc_net        831.86     fraud_Klocko LLC               374125000000000\n",
            "12/16/2020           misc_net        821.87     fraud_Rippin, Kub and Mann     180040000000000\n",
            "12/8/2020            misc_net        821.01     fraud_Lehner, Mosciski and Kin 3545110000000000\n",
            "12/3/2020            misc_net        781.06     fraud_Bernier, Volkman and Hoe 3588000000000000\n"
          ]
        }
      ],
      "source": [
        "# Print column headers\n",
        "print(\"The transactions from uncommon categories in the training set:\")\n",
        "# Print the dividing line\n",
        "print(\"{:<20s} {:<15s} {:<10s} {:<30s} {:<20s}\".format(\"Transaction Date\", \"Category\", \"Amount\", \"Merchant\", \"CC_Number\"))\n",
        "# Print the data for each transaction\n",
        "print(\"-\" * 90)\n",
        "for transaction in transactions_from_uncommon_category:\n",
        "    transaction_date = transaction[\"trans_date_trans_time\"]\n",
        "    category = transaction[\"category\"]\n",
        "    amount = transaction[\"amt\"]\n",
        "    merchant = transaction[\"merchant\"]\n",
        "    cc_number = transaction[\"cc_num\"]\n",
        "    print(\"{:<20s} {:<15s} {:<10.2f} {:<30s} {:<15.0f}\".format(str(transaction_date)[:20], str(category)[:15], amount, str(merchant)[:30], cc_number))"
      ]
    },
    {
      "cell_type": "code",
      "execution_count": null,
      "id": "1d1f60eb",
      "metadata": {
        "scrolled": true,
        "id": "1d1f60eb",
        "outputId": "25b01454-feaf-40b8-d1cf-35468458afae"
      },
      "outputs": [
        {
          "name": "stdout",
          "output_type": "stream",
          "text": [
            "List of common categories:\n",
            "gas_transport\n",
            "home\n",
            "grocery_pos\n",
            "shopping_pos\n",
            "kids_pets\n",
            "shopping_net\n",
            "entertainment\n",
            "personal_care\n",
            "food_dining\n",
            "health_fitness\n"
          ]
        }
      ],
      "source": [
        "# Extract a list of common categories from the testing set\n",
        "def get_common_categories():\n",
        "    with driver.session() as session:\n",
        "        result = session.run(\n",
        "            \"\"\"\n",
        "            MATCH (m:Merch)\n",
        "            WHERE m.train = false\n",
        "            WITH m.category AS category, COUNT(*) AS count\n",
        "            RETURN category\n",
        "            ORDER BY count DESC\n",
        "            LIMIT 10\n",
        "            \"\"\"\n",
        "        )\n",
        "        return [record[\"category\"] for record in result]\n",
        "\n",
        "# Retrieve a list of common categories\n",
        "common_categories = get_common_categories()\n",
        "\n",
        "# Print the result\n",
        "print(\"List of common categories:\")\n",
        "for category in common_categories:\n",
        "    print(category)"
      ]
    },
    {
      "cell_type": "code",
      "execution_count": null,
      "id": "7c8309bc",
      "metadata": {
        "id": "7c8309bc"
      },
      "outputs": [],
      "source": [
        "# Retrieve nodes on Neo4j for transactions from uncommon categories (testing set)\n",
        "        # MATCH (c:Customer)-[:MADE_TRANSACTION]->(t:Transaction)-[:RELATED_TO]->(m:Merch)\n",
        "        # WHERE NOT m.category IN ['gas_transport', 'home', 'grocery_pos', 'shopping_pos', 'kids_pets', 'shopping_net', 'entertainment', 'personal_care', 'food_dining', 'health_fitness']\n",
        "        # AND m.train = false AND t.is_fraud = 1\n",
        "        # RETURN c, t, m\n",
        "        # ORDER BY t.amt DESC\n",
        "        # LIMIT 10"
      ]
    },
    {
      "cell_type": "code",
      "execution_count": null,
      "id": "36b9d2c5",
      "metadata": {
        "id": "36b9d2c5"
      },
      "outputs": [],
      "source": [
        "# Extract a list of uncommon categories from the testing set\n",
        "def find_transactions_from_uncommon_category(common_categories):\n",
        "    with driver.session() as session:\n",
        "        result = session.run(\n",
        "            \"\"\"\n",
        "            MATCH (t:Transaction)-[:RELATED_TO]->(m:Merch)\n",
        "            WHERE NOT m.category IN $common_categories AND m.train = false AND t.is_fraud = 1\n",
        "            RETURN t\n",
        "            ORDER BY t.amt DESC\n",
        "            \"\"\",\n",
        "            common_categories=common_categories\n",
        "        )\n",
        "        return [record[\"t\"] for record in result]\n",
        "\n",
        "# Determine the transactions from uncommon categories\n",
        "transactions_from_uncommon_category = find_transactions_from_uncommon_category(common_categories)"
      ]
    },
    {
      "cell_type": "code",
      "execution_count": null,
      "id": "d476d230",
      "metadata": {
        "id": "d476d230",
        "outputId": "86e8813c-9aea-4198-a6c7-427d0bdbd2c6"
      },
      "outputs": [
        {
          "name": "stdout",
          "output_type": "stream",
          "text": [
            "The transactions from uncommon categories in the testing set:\n",
            "Transaction Date     Category        Amount     Merchant                       CC_Number           \n",
            "------------------------------------------------------------------------------------------\n",
            "12/9/2020            misc_net        1015.53    fraud_Zemlak Group             3591920000000000\n",
            "12/17/2020           misc_net        985.69     fraud_Rippin, Kub and Mann     639046000000   \n",
            "12/6/2020            misc_net        905.63     fraud_Mante Group              4412720000000000\n",
            "12/11/2020           misc_net        890.64     fraud_Huel-Langworth           4560400000000000000\n",
            "12/9/2020            misc_net        824.10     fraud_Bernier, Volkman and Hoe 213181000000000\n",
            "12/13/2020           misc_net        823.31     fraud_Klocko LLC               377550000000000\n",
            "12/1/2020            misc_net        806.92     fraud_Dooley-Thompson          30267000000000 \n",
            "12/16/2020           misc_net        806.56     fraud_Koelpin and Sons         180040000000000\n",
            "12/8/2020            misc_net        798.67     fraud_McGlynn-Heathcote        3545110000000000\n",
            "12/17/2020           misc_net        759.36     fraud_Parisian, Schiller and A 639046000000   \n",
            "12/13/2020           misc_net        746.79     fraud_Zemlak Group             377550000000000\n",
            "12/15/2020           misc_net        725.33     fraud_Volkman Ltd              6011490000000000\n",
            "12/8/2020            misc_net        721.96     fraud_Bogisich-Homenick        3545110000000000\n",
            "12/16/2020           travel          9.27       fraud_Mosciski Group           2714020000000000\n",
            "12/4/2020            misc_pos        9.02       fraud_Bruen-Yost               213157000000000\n",
            "12/11/2020           travel          7.88       fraud_Kris-Kertzmann           4560400000000000000\n",
            "12/17/2020           grocery_net     7.76       fraud_Ferry, Reichel and DuBuq 639046000000   \n"
          ]
        }
      ],
      "source": [
        "# Print column headers\n",
        "print(\"The transactions from uncommon categories in the testing set:\")\n",
        "# Print the dividing line\n",
        "print(\"{:<20s} {:<15s} {:<10s} {:<30s} {:<20s}\".format(\"Transaction Date\", \"Category\", \"Amount\", \"Merchant\", \"CC_Number\"))\n",
        "# Print the data for each transaction\n",
        "print(\"-\" * 90)\n",
        "for transaction in transactions_from_uncommon_category:\n",
        "    transaction_date = transaction[\"trans_date_trans_time\"]\n",
        "    category = transaction[\"category\"]\n",
        "    amount = transaction[\"amt\"]\n",
        "    merchant = transaction[\"merchant\"]\n",
        "    cc_number = transaction[\"cc_num\"]\n",
        "    print(\"{:<20s} {:<15s} {:<10.2f} {:<30s} {:<15.0f}\".format(str(transaction_date)[:20], str(category)[:15], amount, str(merchant)[:30], cc_number))"
      ]
    }
  ],
  "metadata": {
    "kernelspec": {
      "display_name": "Python 3 (ipykernel)",
      "language": "python",
      "name": "python3"
    },
    "language_info": {
      "codemirror_mode": {
        "name": "ipython",
        "version": 3
      },
      "file_extension": ".py",
      "mimetype": "text/x-python",
      "name": "python",
      "nbconvert_exporter": "python",
      "pygments_lexer": "ipython3",
      "version": "3.10.9"
    },
    "colab": {
      "provenance": []
    }
  },
  "nbformat": 4,
  "nbformat_minor": 5
}